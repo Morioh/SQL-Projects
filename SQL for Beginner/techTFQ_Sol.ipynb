{
    "metadata": {
        "kernelspec": {
            "name": "SQL",
            "display_name": "SQL",
            "language": "sql"
        },
        "language_info": {
            "name": "sql",
            "version": ""
        }
    },
    "nbformat_minor": 2,
    "nbformat": 4,
    "cells": [
        {
            "cell_type": "code",
            "source": [
                "CREATE TABLE billing (\n",
                "  billing_id VARCHAR(5),\n",
                "  customer_id INT,\n",
                "  customer_name VARCHAR(10),\n",
                "  billing_creation_date DATE,\n",
                "  billed_amount DECIMAL(10, 2)\n",
                ");"
            ],
            "metadata": {
                "azdata_cell_guid": "ae16ba29-df65-4079-9601-212ebbafc80a",
                "language": "sql"
            },
            "outputs": [
                {
                    "output_type": "display_data",
                    "data": {
                        "text/html": "Commands completed successfully"
                    },
                    "metadata": {}
                },
                {
                    "output_type": "display_data",
                    "data": {
                        "text/html": "Total execution time: 00:00:00.046"
                    },
                    "metadata": {}
                }
            ],
            "execution_count": 1
        },
        {
            "cell_type": "code",
            "source": [
                "INSERT INTO billing (billing_id, customer_id, customer_name, billing_creation_date, billed_amount)\n",
                "VALUES ('id1', 1, 'A', '10-10-2020', 100);\n",
                "\n",
                "INSERT INTO billing (billing_id, customer_id, customer_name, billing_creation_date, billed_amount)\n",
                "VALUES ('id2', 1, 'A', '11-11-2020', 150);\n",
                "\n",
                "INSERT INTO billing (billing_id, customer_id, customer_name, billing_creation_date, billed_amount)\n",
                "VALUES ('id3', 1, 'A', '12-11-2021', 100);\n",
                "INSERT INTO billing (billing_id, customer_id, customer_name, billing_creation_date, billed_amount)\n",
                "VALUES ('id4', 2, 'B', '10-11-2019', 150);\n",
                "\n",
                "INSERT INTO billing (billing_id, customer_id, customer_name, billing_creation_date, billed_amount)\n",
                "VALUES ('id5', 2, 'B', '11-11-2020', 200);\n",
                "\n",
                "INSERT INTO billing (billing_id, customer_id, customer_name, billing_creation_date, billed_amount)\n",
                "VALUES ('id6', 2, 'B', '12-11-2021', 250);\n",
                "INSERT INTO billing (billing_id, customer_id, customer_name, billing_creation_date, billed_amount)\n",
                "VALUES ('id7', 3, 'C', '01-01-2018', 100);\n",
                "\n",
                "INSERT INTO billing (billing_id, customer_id, customer_name, billing_creation_date, billed_amount)\n",
                "VALUES ('id8', 3, 'C', '05-01-2019', 250);\n",
                "\n",
                "INSERT INTO billing (billing_id, customer_id, customer_name, billing_creation_date, billed_amount)\n",
                "VALUES ('id9', 3, 'C', '06-01-2021', 300);\n",
                ""
            ],
            "metadata": {
                "language": "sql",
                "azdata_cell_guid": "c3946633-4ceb-48f6-a677-7bbd554405c1"
            },
            "outputs": [
                {
                    "output_type": "display_data",
                    "data": {
                        "text/html": "Commands completed successfully"
                    },
                    "metadata": {}
                },
                {
                    "output_type": "display_data",
                    "data": {
                        "text/html": "Commands completed successfully"
                    },
                    "metadata": {}
                },
                {
                    "output_type": "display_data",
                    "data": {
                        "text/html": "Commands completed successfully"
                    },
                    "metadata": {}
                },
                {
                    "output_type": "display_data",
                    "data": {
                        "text/html": "Commands completed successfully"
                    },
                    "metadata": {}
                },
                {
                    "output_type": "display_data",
                    "data": {
                        "text/html": "Commands completed successfully"
                    },
                    "metadata": {}
                },
                {
                    "output_type": "display_data",
                    "data": {
                        "text/html": "Commands completed successfully"
                    },
                    "metadata": {}
                },
                {
                    "output_type": "display_data",
                    "data": {
                        "text/html": "Commands completed successfully"
                    },
                    "metadata": {}
                },
                {
                    "output_type": "display_data",
                    "data": {
                        "text/html": "Commands completed successfully"
                    },
                    "metadata": {}
                },
                {
                    "output_type": "display_data",
                    "data": {
                        "text/html": "Commands completed successfully"
                    },
                    "metadata": {}
                },
                {
                    "output_type": "display_data",
                    "data": {
                        "text/html": "Total execution time: 00:00:00.022"
                    },
                    "metadata": {}
                }
            ],
            "execution_count": 2
        },
        {
            "cell_type": "code",
            "source": [
                "WITH cte AS\n",
                "    (SELECT customer_id, customer_name\n",
                "    , SUM (CASE WHEN to_char(billing_creation_date, 'yyyy') = '2019' then billed_amount ELSE 0 END)::DECIMAL AS sum_2019\n",
                "    , SUM (CASE WHEN to_char(billing_creation_date, 'yyyy') = '2020' then billed_amount ELSE 0 END)::DECIMAL AS sum_2020\n",
                "    , SUM (CASE WHEN to_char(billing_creation_date, 'yyyy') = '2021' then billed_amount ELSE 0 END)::DECIMAL AS sum_2021\n",
                "    , COUNT(CASE WHEN to_char(billing_creation_date, 'yyyy') = '2019' then billed_amount ELSE NULL END) AS cnt_2019\n",
                "    , COUNT(CASE WHEN to_char(billing_creation_date, 'yyyy') = '2020' then billed_amount ELSE NULL END) AS cnt_2020\n",
                "    , COUNT(CASE WHEN to_char(billing_creation_date, 'yyyy') = '2021' then billed_amount ELSE NULL END) AS cnt_2021\n",
                "    FROM billing\n",
                "    GROUP BY customer_id, customer_name)\n",
                "SELECT customer_id, customer_name\n",
                ", ROUND((sum_2019+sum_2020+sum_2021)/\n",
                "  (CASE WHEN cnt_2019=0 THEN 1 ELSE cnt_2019 END\n",
                "  + CASE WHEN cnt_2020=0 THEN 1 ELSE cnt_2020 END\n",
                "  + CASE WHEN cnt_2021=0 THEN 1 ELSE cnt_2021 END\n",
                "  ) ,2)as avg_bill_amount\n",
                "FROM cte \n",
                "ORDER BY 1"
            ],
            "metadata": {
                "azdata_cell_guid": "ed832fff-31b6-4a3c-9037-5edbd900ba48",
                "language": "sql"
            },
            "outputs": [
                {
                    "output_type": "display_data",
                    "data": {
                        "text/html": "(3 row(s) affected)"
                    },
                    "metadata": {}
                },
                {
                    "output_type": "display_data",
                    "data": {
                        "text/html": "Total execution time: 00:00:00.062"
                    },
                    "metadata": {}
                },
                {
                    "output_type": "execute_result",
                    "metadata": {},
                    "execution_count": 1,
                    "data": {
                        "application/vnd.dataresource+json": {
                            "schema": {
                                "fields": [
                                    {
                                        "name": "customer_id"
                                    },
                                    {
                                        "name": "customer_name"
                                    },
                                    {
                                        "name": "avg_bill_amount"
                                    }
                                ]
                            },
                            "data": [
                                {
                                    "0": "1",
                                    "1": "A",
                                    "2": "87.50"
                                },
                                {
                                    "0": "2",
                                    "1": "B",
                                    "2": "200.00"
                                },
                                {
                                    "0": "3",
                                    "1": "C",
                                    "2": "183.33"
                                }
                            ]
                        },
                        "text/html": [
                            "<table>",
                            "<tr><th>customer_id</th><th>customer_name</th><th>avg_bill_amount</th></tr>",
                            "<tr><td>1</td><td>A</td><td>87.50</td></tr>",
                            "<tr><td>2</td><td>B</td><td>200.00</td></tr>",
                            "<tr><td>3</td><td>C</td><td>183.33</td></tr>",
                            "</table>"
                        ]
                    }
                }
            ],
            "execution_count": 1
        }
    ]
}